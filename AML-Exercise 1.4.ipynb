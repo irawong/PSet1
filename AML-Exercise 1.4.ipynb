{
 "cells": [
  {
   "cell_type": "code",
   "execution_count": 1,
   "metadata": {
    "collapsed": true
   },
   "outputs": [],
   "source": [
    "import numpy as np\n",
    "import matplotlib.pyplot as plt"
   ]
  },
  {
   "cell_type": "code",
   "execution_count": 2,
   "metadata": {
    "collapsed": true
   },
   "outputs": [],
   "source": [
    "def Gen_data(N, d, rnd, t=0.1):\n",
    "    \"\"\"\n",
    "    Generate N data with d dimension\n",
    "    \"\"\"\n",
    "    X = []\n",
    "    w = np.ones(d)\n",
    "    while (len(X) < N):\n",
    "        x = rnd.uniform(-1, 1, size=(d))\n",
    "        if np.abs(x.dot(w)) >= t:\n",
    "            X.append(x)\n",
    "    X = np.array(X)\n",
    "    y = 2 * (X.dot(w) > 0) - 1\n",
    "    X = np.c_[np.ones((N, 1)), X]\n",
    "    return X, y"
   ]
  },
  {
   "cell_type": "code",
   "execution_count": 3,
   "metadata": {
    "collapsed": true
   },
   "outputs": [],
   "source": [
    "def Discriminant(X, y, w):\n",
    "    \"\"\"\n",
    "    Discriminant function\n",
    "    \"\"\"\n",
    "    n = X.shape[0]\n",
    "    num = np.sum(X.dot(w) * y > 0)\n",
    "    return num == n"
   ]
  },
  {
   "cell_type": "code",
   "execution_count": 4,
   "metadata": {
    "collapsed": true
   },
   "outputs": [],
   "source": [
    "def Obj_func(N, d, rr, t=0.1, r=1):\n",
    "    \"\"\"\n",
    "    Update data by PLA\n",
    "    \"\"\"\n",
    "    X, y = Gen_data(N, d, rr, t=t)\n",
    "    s = 0\n",
    "    w = np.zeros(d + 1)\n",
    "    n = X.shape[0]\n",
    "    if r == 1:\n",
    "        while (Discriminant(X, y ,w) == 0):\n",
    "            for i in range(n):\n",
    "                if X[i, :].dot(w) * y[i] <= 0:\n",
    "                    w += y[i] * X[i, :]\n",
    "                    s += 1\n",
    "    else:\n",
    "        while (Discriminant(X, y ,w) == 0):\n",
    "            i = np.random.randint(0, N)\n",
    "            if X[i, :].dot(w) * y[i] <= 0:\n",
    "                w += y[i] * X[i, :]\n",
    "                s += 1\n",
    "    a = np.arange(-1, 1, 0.1)\n",
    "    b = np.array([(i * w[1] + w[0]) / (-w[2]) for i in a])\n",
    "    c = t - a\n",
    "    return a, b, c, X, y, s, w"
   ]
  },
  {
   "cell_type": "code",
   "execution_count": 5,
   "metadata": {
    "collapsed": true
   },
   "outputs": [],
   "source": [
    "def plot_fig(a, b, c, X, y, s, w, t=0.1):\n",
    "    plt.scatter(X[y == 1][:, 1], X[y == 1][:, 2], c='r', s=1)\n",
    "    plt.scatter(X[y == -1][:, 1], X[y == -1][:, 2], c='b', s=1)\n",
    "    plt.plot(a, b, label=\"(\"+str(w[0])+\")+(\"+str(w[1])+\")x1+(\"+str(w[2])+\")x2=0\")\n",
    "    plt.plot(a, c, label=\"x1+x2=\"+str(t))\n",
    "    plt.title(u\"Convergence after \"+str(s)+u\" times \")\n",
    "    plt.legend()\n",
    "    plt.show()"
   ]
  },
  {
   "cell_type": "code",
   "execution_count": 6,
   "metadata": {
    "collapsed": true
   },
   "outputs": [],
   "source": [
    "def main():\n",
    "    seed = 2019\n",
    "    rr = np.random.RandomState(seed)\n",
    "    N = 20\n",
    "    d = 2\n",
    "    a, b, c, X, y, s, w = Obj_func(N, d, rr)\n",
    "    plot_fig(a, b, c, X, y, s, w)"
   ]
  },
  {
   "cell_type": "code",
   "execution_count": 7,
   "metadata": {},
   "outputs": [
    {
     "data": {
      "image/png": "[encoded data removed]",
      "text/plain": [
       "<matplotlib.figure.Figure at 0x19c4634d0f0>"
      ]
     },
     "metadata": {},
     "output_type": "display_data"
    }
   ],
   "source": [
    "main()"
   ]
  },
  {
   "cell_type": "code",
   "execution_count": null,
   "metadata": {
    "collapsed": true
   },
   "outputs": [],
   "source": []
  }
 ],
 "metadata": {
  "kernelspec": {
   "display_name": "Python 3",
   "language": "python",
   "name": "python3"
  },
  "language_info": {
   "codemirror_mode": {
    "name": "ipython",
    "version": 3
   },
   "file_extension": ".py",
   "mimetype": "text/x-python",
   "name": "python",
   "nbconvert_exporter": "python",
   "pygments_lexer": "ipython3",
   "version": "3.6.7"
  }
 },
 "nbformat": 4,
 "nbformat_minor": 2
}
